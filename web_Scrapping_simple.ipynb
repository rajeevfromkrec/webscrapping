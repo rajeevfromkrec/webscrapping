{
  "nbformat": 4,
  "nbformat_minor": 0,
  "metadata": {
    "colab": {
      "name": "web Scrapping simple.ipynb",
      "provenance": [],
      "authorship_tag": "ABX9TyOjdEUim9KB9KI0vB39GM7Y",
      "include_colab_link": true
    },
    "kernelspec": {
      "name": "python3",
      "display_name": "Python 3"
    }
  },
  "cells": [
    {
      "cell_type": "markdown",
      "metadata": {
        "id": "view-in-github",
        "colab_type": "text"
      },
      "source": [
        "<a href=\"https://colab.research.google.com/github/rajeevfromkrec/webscrapping/blob/master/web_Scrapping_simple.ipynb\" target=\"_parent\"><img src=\"https://colab.research.google.com/assets/colab-badge.svg\" alt=\"Open In Colab\"/></a>"
      ]
    },
    {
      "cell_type": "code",
      "metadata": {
        "id": "n5GDWAmFP50-",
        "colab_type": "code",
        "colab": {}
      },
      "source": [
        "#https://www.fasttrack.co.uk/league-tables/tech-track-100/league-table/\n"
      ],
      "execution_count": null,
      "outputs": []
    },
    {
      "cell_type": "code",
      "metadata": {
        "id": "oXKcoNNcQHMt",
        "colab_type": "code",
        "colab": {}
      },
      "source": [
        "#import libraries\n",
        "\n",
        "from bs4 import BeautifulSoup\n",
        "#to handle HTML\n",
        "\n",
        "import urllib.request \n",
        "\n",
        "#to make connection\n",
        "\n",
        "import csv\n",
        "import pandas as pd\n"
      ],
      "execution_count": 1,
      "outputs": []
    },
    {
      "cell_type": "code",
      "metadata": {
        "id": "9n10jWLZRgSM",
        "colab_type": "code",
        "colab": {}
      },
      "source": [
        "urlpage =  'http://www.fasttrack.co.uk/league-tables/tech-track-100/league-table/'"
      ],
      "execution_count": 2,
      "outputs": []
    },
    {
      "cell_type": "code",
      "metadata": {
        "id": "e1t3NlvKRpzk",
        "colab_type": "code",
        "colab": {}
      },
      "source": [
        "# query the website and return the html to the variable 'page'\n",
        "page = urllib.request.urlopen(urlpage)"
      ],
      "execution_count": 3,
      "outputs": []
    },
    {
      "cell_type": "code",
      "metadata": {
        "id": "yate558eR8GB",
        "colab_type": "code",
        "colab": {}
      },
      "source": [
        "# parse the html using beautiful soup and store in variable 'soup'\n",
        "soup = BeautifulSoup(page, 'html.parser')"
      ],
      "execution_count": 4,
      "outputs": []
    },
    {
      "cell_type": "code",
      "metadata": {
        "id": "LfCQSZhZSHMO",
        "colab_type": "code",
        "colab": {}
      },
      "source": [
        "print(soup)"
      ],
      "execution_count": null,
      "outputs": []
    },
    {
      "cell_type": "code",
      "metadata": {
        "id": "YDTFgf6HSIrC",
        "colab_type": "code",
        "colab": {
          "base_uri": "https://localhost:8080/",
          "height": 34
        },
        "outputId": "a1678571-44a6-403b-b878-be4df3f503c6"
      },
      "source": [
        "# find results within table\n",
        "table = soup.find('table', attrs={'class': 'tableSorter2'})\n",
        "results = table.find_all('tr')\n",
        "print('Number of results', len(results))"
      ],
      "execution_count": 9,
      "outputs": [
        {
          "output_type": "stream",
          "text": [
            "Number of results 101\n"
          ],
          "name": "stdout"
        }
      ]
    },
    {
      "cell_type": "code",
      "metadata": {
        "id": "BIvA53lbS7rO",
        "colab_type": "code",
        "colab": {}
      },
      "source": [
        "results"
      ],
      "execution_count": null,
      "outputs": []
    },
    {
      "cell_type": "code",
      "metadata": {
        "id": "c54u70q1Tg3d",
        "colab_type": "code",
        "colab": {
          "base_uri": "https://localhost:8080/",
          "height": 34
        },
        "outputId": "3e200324-9232-459c-c0cb-1c0cbf35bdc6"
      },
      "source": [
        "# create and write headers to a list \n",
        "rows = []\n",
        "rows.append(['Rank', 'Company Name', 'Webpage', 'Description', 'Location', 'Year end', 'Annual sales rise over 3 years', 'Sales £000s', 'Staff', 'Comments'])\n",
        "print(rows)"
      ],
      "execution_count": 11,
      "outputs": [
        {
          "output_type": "stream",
          "text": [
            "[['Rank', 'Company Name', 'Webpage', 'Description', 'Location', 'Year end', 'Annual sales rise over 3 years', 'Sales £000s', 'Staff', 'Comments']]\n"
          ],
          "name": "stdout"
        }
      ]
    },
    {
      "cell_type": "code",
      "metadata": {
        "id": "dfbRTcwQT5Qa",
        "colab_type": "code",
        "colab": {}
      },
      "source": [
        "\n",
        "i=1\n",
        "# loop over results\n",
        "for result in results:\n",
        "    # find all columns per result\n",
        "    data = result.find_all('td')\n",
        "    # check that columns have data \n",
        "    if len(data) != 0:\n",
        "      # write columns to variables\n",
        "      rank = data[0].getText()\n",
        "      company = data[1].getText()\n",
        "      location = data[2].getText()\n",
        "      yearend = data[3].getText()\n",
        "      salesrise = data[4].getText()\n",
        "      sales = data[5].getText()\n",
        "      staff = data[6].getText()\n",
        "      comments = data[7].getText()\n",
        "      rows.append([rank,company,location,yearend,salesrise,sales,staff,comments ])"
      ],
      "execution_count": 16,
      "outputs": []
    },
    {
      "cell_type": "code",
      "metadata": {
        "id": "VpDkd1EiVsNz",
        "colab_type": "code",
        "colab": {}
      },
      "source": [
        "with open('techtrack100.csv','w', newline='') as f_output:\n",
        "    csv_output = csv.writer(f_output)\n",
        "    csv_output.writerows(rows)"
      ],
      "execution_count": 18,
      "outputs": []
    },
    {
      "cell_type": "code",
      "metadata": {
        "id": "qn_4VFiYVtc5",
        "colab_type": "code",
        "colab": {
          "base_uri": "https://localhost:8080/",
          "height": 34
        },
        "outputId": "ae0bce23-cd26-44b4-e177-5a1555b434e6"
      },
      "source": [
        "!ls"
      ],
      "execution_count": 19,
      "outputs": [
        {
          "output_type": "stream",
          "text": [
            "sample_data  techtrack100.csv\n"
          ],
          "name": "stdout"
        }
      ]
    },
    {
      "cell_type": "code",
      "metadata": {
        "id": "5KyjNnmMX5F5",
        "colab_type": "code",
        "colab": {}
      },
      "source": [
        "table=pd.read_csv('techtrack100.csv')"
      ],
      "execution_count": 20,
      "outputs": []
    },
    {
      "cell_type": "code",
      "metadata": {
        "id": "Rd-BlpgkYEwq",
        "colab_type": "code",
        "colab": {
          "base_uri": "https://localhost:8080/",
          "height": 306
        },
        "outputId": "2c9ce7f0-1bf9-4ff6-f137-41ffac38b8de"
      },
      "source": [
        "table.head()"
      ],
      "execution_count": 21,
      "outputs": [
        {
          "output_type": "execute_result",
          "data": {
            "text/html": [
              "<div>\n",
              "<style scoped>\n",
              "    .dataframe tbody tr th:only-of-type {\n",
              "        vertical-align: middle;\n",
              "    }\n",
              "\n",
              "    .dataframe tbody tr th {\n",
              "        vertical-align: top;\n",
              "    }\n",
              "\n",
              "    .dataframe thead th {\n",
              "        text-align: right;\n",
              "    }\n",
              "</style>\n",
              "<table border=\"1\" class=\"dataframe\">\n",
              "  <thead>\n",
              "    <tr style=\"text-align: right;\">\n",
              "      <th></th>\n",
              "      <th>Rank</th>\n",
              "      <th>Company Name</th>\n",
              "      <th>Webpage</th>\n",
              "      <th>Description</th>\n",
              "      <th>Location</th>\n",
              "      <th>Year end</th>\n",
              "      <th>Annual sales rise over 3 years</th>\n",
              "      <th>Sales £000s</th>\n",
              "      <th>Staff</th>\n",
              "      <th>Comments</th>\n",
              "    </tr>\n",
              "  </thead>\n",
              "  <tbody>\n",
              "    <tr>\n",
              "      <th>0</th>\n",
              "      <td>1</td>\n",
              "      <td>RevolutDigital banking services provider</td>\n",
              "      <td>East London</td>\n",
              "      <td>Dec 18</td>\n",
              "      <td>507.56%</td>\n",
              "      <td>*58,300</td>\n",
              "      <td>700</td>\n",
              "      <td>Valued at $1.7bn in 2018 and reported to be ra...</td>\n",
              "      <td>NaN</td>\n",
              "      <td>NaN</td>\n",
              "    </tr>\n",
              "    <tr>\n",
              "      <th>1</th>\n",
              "      <td>2</td>\n",
              "      <td>BizumaB2B e-commerce platform</td>\n",
              "      <td>Central London</td>\n",
              "      <td>Mar 19</td>\n",
              "      <td>315.18%</td>\n",
              "      <td>*26,414</td>\n",
              "      <td>114</td>\n",
              "      <td>Connects wholesale buyers and sellers from ove...</td>\n",
              "      <td>NaN</td>\n",
              "      <td>NaN</td>\n",
              "    </tr>\n",
              "    <tr>\n",
              "      <th>2</th>\n",
              "      <td>3</td>\n",
              "      <td>Global-eCross-border ecommerce solutions</td>\n",
              "      <td>Central London</td>\n",
              "      <td>Dec 18</td>\n",
              "      <td>303.09%</td>\n",
              "      <td>29,297</td>\n",
              "      <td>28</td>\n",
              "      <td>Its technology helps ecommerce retailers local...</td>\n",
              "      <td>NaN</td>\n",
              "      <td>NaN</td>\n",
              "    </tr>\n",
              "    <tr>\n",
              "      <th>3</th>\n",
              "      <td>4</td>\n",
              "      <td>Jungle CreationsSocial media &amp; ecommerce services</td>\n",
              "      <td>East London</td>\n",
              "      <td>Dec 18</td>\n",
              "      <td>302.53%</td>\n",
              "      <td>*15,972</td>\n",
              "      <td>159</td>\n",
              "      <td>Launched the first-ever delivery-only restaura...</td>\n",
              "      <td>NaN</td>\n",
              "      <td>NaN</td>\n",
              "    </tr>\n",
              "    <tr>\n",
              "      <th>4</th>\n",
              "      <td>5</td>\n",
              "      <td>Oxford Nanopore TechnologiesDNA analysis techn...</td>\n",
              "      <td>Oxford</td>\n",
              "      <td>Dec 18</td>\n",
              "      <td>251.87%</td>\n",
              "      <td>*32,500</td>\n",
              "      <td>439</td>\n",
              "      <td>Has raised £451m in funding and was valued at ...</td>\n",
              "      <td>NaN</td>\n",
              "      <td>NaN</td>\n",
              "    </tr>\n",
              "  </tbody>\n",
              "</table>\n",
              "</div>"
            ],
            "text/plain": [
              "   Rank                                       Company Name  ... Staff Comments\n",
              "0     1           RevolutDigital banking services provider  ...   NaN      NaN\n",
              "1     2                      BizumaB2B e-commerce platform  ...   NaN      NaN\n",
              "2     3           Global-eCross-border ecommerce solutions  ...   NaN      NaN\n",
              "3     4  Jungle CreationsSocial media & ecommerce services  ...   NaN      NaN\n",
              "4     5  Oxford Nanopore TechnologiesDNA analysis techn...  ...   NaN      NaN\n",
              "\n",
              "[5 rows x 10 columns]"
            ]
          },
          "metadata": {
            "tags": []
          },
          "execution_count": 21
        }
      ]
    },
    {
      "cell_type": "code",
      "metadata": {
        "id": "_6jorQ97YHVN",
        "colab_type": "code",
        "colab": {}
      },
      "source": [
        ""
      ],
      "execution_count": null,
      "outputs": []
    }
  ]
}